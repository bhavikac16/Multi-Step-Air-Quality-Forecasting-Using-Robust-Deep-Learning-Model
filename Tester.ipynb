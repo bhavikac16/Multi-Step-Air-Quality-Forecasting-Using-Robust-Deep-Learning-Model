{
  "cells": [
    {
      "cell_type": "markdown",
      "metadata": {
        "id": "MdlH4InwB09T"
      },
      "source": [
        "### Run it once"
      ]
    },
    {
      "cell_type": "code",
      "execution_count": 70,
      "metadata": {
        "id": "o7IC1Tm6BgRG"
      },
      "outputs": [],
      "source": [
        "import numpy as np\n",
        "import pandas as pd\n",
        "from tensorflow.keras.models import Sequential\n",
        "from tensorflow.keras.layers import Dense, LSTM\n",
        "from sklearn.metrics import mean_squared_error, mean_absolute_error\n",
        "from sklearn.preprocessing import StandardScaler\n",
        "from tensorflow.keras.models import Sequential\n",
        "from tensorflow.keras.layers import LSTM, Dense, Dropout\n",
        "from tensorflow.keras import models\n",
        "import matplotlib.pyplot as plt\n",
        "import json"
      ]
    },
    {
      "cell_type": "markdown",
      "metadata": {
        "id": "dNHDuUhZBjs1"
      },
      "source": [
        "### Testing\n",
        "- make changes in the first cell following it based on your requirements while following the comments\n",
        "- run the rest of the file without any changes"
      ]
    },
    {
      "cell_type": "code",
      "execution_count": 71,
      "metadata": {
        "id": "UzfJzAYNElYU"
      },
      "outputs": [],
      "source": [
        "city = 'B' # replace it with the city you'd like\n",
        "time_step = 1 # replace it with the step size you'd like in {1,7,14,30,60}\n",
        "testing_file = \"C:/Users/Pragy/Downloads/B_test.csv\" # replace it with the location of the csv file used for testing\n",
        "directory = \"C:/Users/Pragy/Downloads/proj\" # replace it with the folder containg all the files provided in Drive link for Saved models"
      ]
    },
    {
      "cell_type": "code",
      "execution_count": 72,
      "metadata": {},
      "outputs": [],
      "source": [
        "directory += \"/City_\" + city + \"/\""
      ]
    },
    {
      "cell_type": "code",
      "execution_count": 73,
      "metadata": {
        "id": "S0sD3lRhC-6d"
      },
      "outputs": [],
      "source": [
        "df = pd.read_csv(testing_file, infer_datetime_format=True, parse_dates={'dt' : ['Unnamed: 0']}, index_col='dt')"
      ]
    },
    {
      "cell_type": "code",
      "execution_count": 74,
      "metadata": {
        "id": "NLed5e3JDLx2"
      },
      "outputs": [],
      "source": [
        "test_data = np.asarray(df)"
      ]
    },
    {
      "cell_type": "code",
      "execution_count": 75,
      "metadata": {
        "id": "wqafAn9BB3v0"
      },
      "outputs": [],
      "source": [
        "json_file = directory + 'sample_' + city.lower() + '.json'\n",
        "with open(json_file, 'r') as openfile:\n",
        "    hell = json.load(openfile)"
      ]
    },
    {
      "cell_type": "code",
      "execution_count": 76,
      "metadata": {
        "id": "9rLuK55fC3Fl"
      },
      "outputs": [],
      "source": [
        "def create_test_sequence(data, sequence_length, step_size):\n",
        "    well = test_data[:step_size, 11].tolist()\n",
        "    a = hell.copy()\n",
        "    b = well.copy()\n",
        "    sequences = [a.copy()]\n",
        "    targets = [b.copy()]\n",
        "    for i in range(0, len(data) - step_size):\n",
        "        a.append(data[i].tolist())\n",
        "        a.pop(0)\n",
        "        b.append(data[i+step_size, 11].tolist())\n",
        "        b.pop(0)\n",
        "        sequences.append(a.copy())\n",
        "        targets.append(b.copy())\n",
        "    return np.array(sequences), np.array(targets)"
      ]
    },
    {
      "cell_type": "code",
      "execution_count": 77,
      "metadata": {
        "id": "QZZgM-XRDTR3"
      },
      "outputs": [],
      "source": [
        "X_test, y_test = create_test_sequence(test_data, 24, time_step)"
      ]
    },
    {
      "cell_type": "code",
      "execution_count": 78,
      "metadata": {
        "id": "y_EOza9dDjfo"
      },
      "outputs": [],
      "source": [
        "file_name = directory + city + \"_model_\" + str(time_step)\n",
        "loaded_model = models.load_model(file_name)"
      ]
    },
    {
      "cell_type": "code",
      "execution_count": 79,
      "metadata": {
        "colab": {
          "base_uri": "https://localhost:8080/"
        },
        "id": "x55xkaM9ECiP",
        "outputId": "e1dfa0ff-8f8b-4300-f7d7-c50e25bfd395"
      },
      "outputs": [
        {
          "name": "stdout",
          "output_type": "stream",
          "text": [
            "41/41 [==============================] - 0s 5ms/step\n"
          ]
        }
      ],
      "source": [
        "y_pred = loaded_model.predict(X_test)"
      ]
    },
    {
      "cell_type": "code",
      "execution_count": 80,
      "metadata": {
        "id": "TzVyBPCSEIv3"
      },
      "outputs": [],
      "source": [
        "mse = mean_squared_error(y_test, y_pred)\n",
        "mae = mean_absolute_error(y_test, y_pred)"
      ]
    },
    {
      "cell_type": "code",
      "execution_count": 81,
      "metadata": {
        "colab": {
          "base_uri": "https://localhost:8080/"
        },
        "id": "NRjj1A6FEO8C",
        "outputId": "62cf54e9-e6bf-47c0-92f1-fe902fe0067e"
      },
      "outputs": [
        {
          "name": "stdout",
          "output_type": "stream",
          "text": [
            "Mean Squared Error: 272.4485921334055\n",
            "Mean Absolute Error: 11.519846253904253\n"
          ]
        }
      ],
      "source": [
        "print(f'Mean Squared Error: {mse}')\n",
        "print(f'Mean Absolute Error: {mae}')"
      ]
    }
  ],
  "metadata": {
    "colab": {
      "provenance": []
    },
    "kernelspec": {
      "display_name": "Python 3",
      "name": "python3"
    },
    "language_info": {
      "codemirror_mode": {
        "name": "ipython",
        "version": 3
      },
      "file_extension": ".py",
      "mimetype": "text/x-python",
      "name": "python",
      "nbconvert_exporter": "python",
      "pygments_lexer": "ipython3",
      "version": "3.10.8"
    }
  },
  "nbformat": 4,
  "nbformat_minor": 0
}
